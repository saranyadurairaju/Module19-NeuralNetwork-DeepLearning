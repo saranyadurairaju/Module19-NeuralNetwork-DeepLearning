{
 "cells": [
  {
   "cell_type": "code",
   "execution_count": 9,
   "id": "4ed871ff",
   "metadata": {},
   "outputs": [],
   "source": [
    "# Import our dependencies\n",
    "import pandas as pd\n",
    "import matplotlib as plt\n",
    "from sklearn.datasets import make_blobs\n",
    "import sklearn as skl\n",
    "import tensorflow as tf"
   ]
  },
  {
   "cell_type": "code",
   "execution_count": 10,
   "id": "19ae81ab",
   "metadata": {},
   "outputs": [
    {
     "name": "stdout",
     "output_type": "stream",
     "text": [
      "<module 'tensorflow' from 'C:\\\\Users\\\\saran\\\\anaconda3\\\\envs\\\\mlenv\\\\lib\\\\site-packages\\\\tensorflow\\\\__init__.py'>\n"
     ]
    }
   ],
   "source": [
    "print(tf)"
   ]
  },
  {
   "cell_type": "code",
   "execution_count": 11,
   "id": "8050285d",
   "metadata": {},
   "outputs": [
    {
     "data": {
      "text/plain": [
       "<AxesSubplot:xlabel='Feature 1', ylabel='Feature 2'>"
      ]
     },
     "execution_count": 11,
     "metadata": {},
     "output_type": "execute_result"
    },
    {
     "data": {
      "image/png": "[encoded data removed]",
      "text/plain": [
       "<Figure size 432x288 with 2 Axes>"
      ]
     },
     "metadata": {
      "needs_background": "light"
     },
     "output_type": "display_data"
    }
   ],
   "source": [
    "# Generate dummy dataset\n",
    "X, y = make_blobs(n_samples=1000, centers=2, n_features=2, random_state=78)\n",
    "\n",
    "# Creating a DataFrame with the dummy data\n",
    "df = pd.DataFrame(X, columns=[\"Feature 1\", \"Feature 2\"])\n",
    "df[\"Target\"] = y\n",
    "\n",
    "# Plotting the dummy data\n",
    "df.plot.scatter(x=\"Feature 1\", y=\"Feature 2\", c=\"Target\", colormap=\"winter\")"
   ]
  },
  {
   "cell_type": "code",
   "execution_count": 12,
   "id": "ee07e645",
   "metadata": {},
   "outputs": [],
   "source": [
    "# Use sklearn to split dataset\n",
    "from sklearn.model_selection import train_test_split\n",
    "X_train, X_test, y_train, y_test = train_test_split(X, y, random_state=78)"
   ]
  },
  {
   "cell_type": "code",
   "execution_count": 13,
   "id": "f9a4b546",
   "metadata": {},
   "outputs": [],
   "source": [
    "# Create scaler instance\n",
    "X_scaler = skl.preprocessing.StandardScaler()\n",
    "\n",
    "# Fit the scaler\n",
    "X_scaler.fit(X_train)\n",
    "\n",
    "# Scale the data\n",
    "X_train_scaled = X_scaler.transform(X_train)\n",
    "X_test_scaled = X_scaler.transform(X_test)"
   ]
  },
  {
   "cell_type": "code",
   "execution_count": 14,
   "id": "ab533eb7",
   "metadata": {},
   "outputs": [],
   "source": [
    "# Create the Keras Sequential model\n",
    "nn_model = tf.keras.models.Sequential()"
   ]
  },
  {
   "cell_type": "code",
   "execution_count": 15,
   "id": "1a37aa66",
   "metadata": {},
   "outputs": [],
   "source": [
    "# Add our first Dense layer, including the input layer\n",
    "nn_model.add(tf.keras.layers.Dense(units=1, activation=\"relu\", input_dim=2))"
   ]
  },
  {
   "cell_type": "code",
   "execution_count": 16,
   "id": "a64c4c3a",
   "metadata": {},
   "outputs": [],
   "source": [
    "# Add the output layer that uses a probability activation function\n",
    "nn_model.add(tf.keras.layers.Dense(units=1, activation=\"sigmoid\"))"
   ]
  },
  {
   "cell_type": "code",
   "execution_count": 17,
   "id": "735f9b4b",
   "metadata": {},
   "outputs": [
    {
     "name": "stdout",
     "output_type": "stream",
     "text": [
      "Model: \"sequential_1\"\n",
      "_________________________________________________________________\n",
      "Layer (type)                 Output Shape              Param #   \n",
      "=================================================================\n",
      "dense_1 (Dense)              (None, 1)                 3         \n",
      "_________________________________________________________________\n",
      "dense_2 (Dense)              (None, 1)                 2         \n",
      "=================================================================\n",
      "Total params: 5\n",
      "Trainable params: 5\n",
      "Non-trainable params: 0\n",
      "_________________________________________________________________\n"
     ]
    }
   ],
   "source": [
    "# Check the structure of the Sequential model\n",
    "nn_model.summary()"
   ]
  },
  {
   "cell_type": "code",
   "execution_count": 18,
   "id": "7e2af6ed",
   "metadata": {},
   "outputs": [],
   "source": [
    "# Compile the Sequential model together and customize metrics\n",
    "nn_model.compile(loss=\"binary_crossentropy\", optimizer=\"adam\", metrics=[\"accuracy\"])"
   ]
  },
  {
   "cell_type": "code",
   "execution_count": 19,
   "id": "7c1f72bd",
   "metadata": {},
   "outputs": [
    {
     "name": "stdout",
     "output_type": "stream",
     "text": [
      "Epoch 1/100\n",
      "24/24 [==============================] - 1s 1ms/step - loss: 0.7804 - accuracy: 0.0707 \n",
      "Epoch 2/100\n",
      "24/24 [==============================] - 0s 806us/step - loss: 0.7674 - accuracy: 0.0133\n",
      "Epoch 3/100\n",
      "24/24 [==============================] - 0s 711us/step - loss: 0.7565 - accuracy: 0.0253\n",
      "Epoch 4/100\n",
      "24/24 [==============================] - 0s 681us/step - loss: 0.7470 - accuracy: 0.0453\n",
      "Epoch 5/100\n",
      "24/24 [==============================] - 0s 782us/step - loss: 0.7389 - accuracy: 0.0747\n",
      "Epoch 6/100\n",
      "24/24 [==============================] - 0s 823us/step - loss: 0.7321 - accuracy: 0.1053\n",
      "Epoch 7/100\n",
      "24/24 [==============================] - 0s 607us/step - loss: 0.7264 - accuracy: 0.1413\n",
      "Epoch 8/100\n",
      "24/24 [==============================] - 0s 693us/step - loss: 0.7215 - accuracy: 0.1773\n",
      "Epoch 9/100\n",
      "24/24 [==============================] - 0s 737us/step - loss: 0.7175 - accuracy: 0.2040\n",
      "Epoch 10/100\n",
      "24/24 [==============================] - 0s 666us/step - loss: 0.7141 - accuracy: 0.2373\n",
      "Epoch 11/100\n",
      "24/24 [==============================] - 0s 716us/step - loss: 0.7114 - accuracy: 0.2640\n",
      "Epoch 12/100\n",
      "24/24 [==============================] - 0s 781us/step - loss: 0.7090 - accuracy: 0.2893\n",
      "Epoch 13/100\n",
      "24/24 [==============================] - 0s 782us/step - loss: 0.7070 - accuracy: 0.3080\n",
      "Epoch 14/100\n",
      "24/24 [==============================] - 0s 723us/step - loss: 0.7052 - accuracy: 0.3293\n",
      "Epoch 15/100\n",
      "24/24 [==============================] - 0s 693us/step - loss: 0.7037 - accuracy: 0.3467\n",
      "Epoch 16/100\n",
      "24/24 [==============================] - 0s 694us/step - loss: 0.7024 - accuracy: 0.3640\n",
      "Epoch 17/100\n",
      "24/24 [==============================] - 0s 737us/step - loss: 0.7012 - accuracy: 0.3747\n",
      "Epoch 18/100\n",
      "24/24 [==============================] - 0s 737us/step - loss: 0.7002 - accuracy: 0.3867\n",
      "Epoch 19/100\n",
      "24/24 [==============================] - 0s 693us/step - loss: 0.6994 - accuracy: 0.4053\n",
      "Epoch 20/100\n",
      "24/24 [==============================] - 0s 650us/step - loss: 0.6985 - accuracy: 0.4187\n",
      "Epoch 21/100\n",
      "24/24 [==============================] - 0s 697us/step - loss: 0.6978 - accuracy: 0.4280\n",
      "Epoch 22/100\n",
      "24/24 [==============================] - 0s 693us/step - loss: 0.6972 - accuracy: 0.4427\n",
      "Epoch 23/100\n",
      "24/24 [==============================] - 0s 769us/step - loss: 0.6966 - accuracy: 0.4560\n",
      "Epoch 24/100\n",
      "24/24 [==============================] - 0s 787us/step - loss: 0.6961 - accuracy: 0.4627\n",
      "Epoch 25/100\n",
      "24/24 [==============================] - 0s 765us/step - loss: 0.6956 - accuracy: 0.4693\n",
      "Epoch 26/100\n",
      "24/24 [==============================] - 0s 803us/step - loss: 0.6952 - accuracy: 0.4747\n",
      "Epoch 27/100\n",
      "24/24 [==============================] - 0s 777us/step - loss: 0.6948 - accuracy: 0.4787\n",
      "Epoch 28/100\n",
      "24/24 [==============================] - 0s 788us/step - loss: 0.6945 - accuracy: 0.4827\n",
      "Epoch 29/100\n",
      "24/24 [==============================] - 0s 736us/step - loss: 0.6942 - accuracy: 0.4907\n",
      "Epoch 30/100\n",
      "24/24 [==============================] - 0s 813us/step - loss: 0.6939 - accuracy: 0.4933\n",
      "Epoch 31/100\n",
      "24/24 [==============================] - 0s 816us/step - loss: 0.6936 - accuracy: 0.4987\n",
      "Epoch 32/100\n",
      "24/24 [==============================] - 0s 797us/step - loss: 0.6933 - accuracy: 0.5040\n",
      "Epoch 33/100\n",
      "24/24 [==============================] - 0s 845us/step - loss: 0.6931 - accuracy: 0.5147\n",
      "Epoch 34/100\n",
      "24/24 [==============================] - 0s 773us/step - loss: 0.6927 - accuracy: 0.5173\n",
      "Epoch 35/100\n",
      "24/24 [==============================] - 0s 865us/step - loss: 0.6924 - accuracy: 0.5293\n",
      "Epoch 36/100\n",
      "24/24 [==============================] - 0s 806us/step - loss: 0.6921 - accuracy: 0.5333\n",
      "Epoch 37/100\n",
      "24/24 [==============================] - 0s 780us/step - loss: 0.6917 - accuracy: 0.5440\n",
      "Epoch 38/100\n",
      "24/24 [==============================] - 0s 797us/step - loss: 0.6913 - accuracy: 0.5493\n",
      "Epoch 39/100\n",
      "24/24 [==============================] - 0s 650us/step - loss: 0.6908 - accuracy: 0.5560\n",
      "Epoch 40/100\n",
      "24/24 [==============================] - 0s 781us/step - loss: 0.6903 - accuracy: 0.5640\n",
      "Epoch 41/100\n",
      "24/24 [==============================] - 0s 820us/step - loss: 0.6896 - accuracy: 0.5747\n",
      "Epoch 42/100\n",
      "24/24 [==============================] - 0s 693us/step - loss: 0.6886 - accuracy: 0.5787\n",
      "Epoch 43/100\n",
      "24/24 [==============================] - 0s 737us/step - loss: 0.6876 - accuracy: 0.5867\n",
      "Epoch 44/100\n",
      "24/24 [==============================] - 0s 737us/step - loss: 0.6861 - accuracy: 0.6013\n",
      "Epoch 45/100\n",
      "24/24 [==============================] - 0s 694us/step - loss: 0.6844 - accuracy: 0.6227\n",
      "Epoch 46/100\n",
      "24/24 [==============================] - 0s 693us/step - loss: 0.6822 - accuracy: 0.6440\n",
      "Epoch 47/100\n",
      "24/24 [==============================] - 0s 696us/step - loss: 0.6793 - accuracy: 0.6707\n",
      "Epoch 48/100\n",
      "24/24 [==============================] - 0s 785us/step - loss: 0.6756 - accuracy: 0.6840\n",
      "Epoch 49/100\n",
      "24/24 [==============================] - ETA: 0s - loss: 0.6695 - accuracy: 0.71 - 0s 916us/step - loss: 0.6710 - accuracy: 0.7053\n",
      "Epoch 50/100\n",
      "24/24 [==============================] - 0s 879us/step - loss: 0.6654 - accuracy: 0.7267\n",
      "Epoch 51/100\n",
      "24/24 [==============================] - 0s 651us/step - loss: 0.6585 - accuracy: 0.7453\n",
      "Epoch 52/100\n",
      "24/24 [==============================] - 0s 651us/step - loss: 0.6504 - accuracy: 0.7547\n",
      "Epoch 53/100\n",
      "24/24 [==============================] - 0s 693us/step - loss: 0.6404 - accuracy: 0.7720\n",
      "Epoch 54/100\n",
      "24/24 [==============================] - 0s 738us/step - loss: 0.6288 - accuracy: 0.7880\n",
      "Epoch 55/100\n",
      "24/24 [==============================] - 0s 734us/step - loss: 0.6158 - accuracy: 0.8107\n",
      "Epoch 56/100\n",
      "24/24 [==============================] - 0s 785us/step - loss: 0.6016 - accuracy: 0.8280\n",
      "Epoch 57/100\n",
      "24/24 [==============================] - 0s 737us/step - loss: 0.5861 - accuracy: 0.8440\n",
      "Epoch 58/100\n",
      "24/24 [==============================] - 0s 691us/step - loss: 0.5702 - accuracy: 0.8547\n",
      "Epoch 59/100\n",
      "24/24 [==============================] - 0s 693us/step - loss: 0.5536 - accuracy: 0.8640\n",
      "Epoch 60/100\n",
      "24/24 [==============================] - 0s 694us/step - loss: 0.5369 - accuracy: 0.8773\n",
      "Epoch 61/100\n",
      "24/24 [==============================] - 0s 821us/step - loss: 0.5205 - accuracy: 0.8853\n",
      "Epoch 62/100\n",
      "24/24 [==============================] - 0s 930us/step - loss: 0.5043 - accuracy: 0.8920\n",
      "Epoch 63/100\n",
      "24/24 [==============================] - 0s 865us/step - loss: 0.4887 - accuracy: 0.9027\n",
      "Epoch 64/100\n",
      "24/24 [==============================] - 0s 999us/step - loss: 0.4733 - accuracy: 0.9040\n",
      "Epoch 65/100\n",
      "24/24 [==============================] - 0s 952us/step - loss: 0.4590 - accuracy: 0.9160\n",
      "Epoch 66/100\n",
      "24/24 [==============================] - 0s 826us/step - loss: 0.4450 - accuracy: 0.9200\n",
      "Epoch 67/100\n",
      "24/24 [==============================] - 0s 856us/step - loss: 0.4318 - accuracy: 0.9280\n",
      "Epoch 68/100\n",
      "24/24 [==============================] - 0s 869us/step - loss: 0.4191 - accuracy: 0.9333\n",
      "Epoch 69/100\n",
      "24/24 [==============================] - 0s 782us/step - loss: 0.4070 - accuracy: 0.9387\n",
      "Epoch 70/100\n",
      "24/24 [==============================] - 0s 777us/step - loss: 0.3954 - accuracy: 0.9413\n",
      "Epoch 71/100\n",
      "24/24 [==============================] - 0s 997us/step - loss: 0.3841 - accuracy: 0.9440\n",
      "Epoch 72/100\n",
      "24/24 [==============================] - 0s 1ms/step - loss: 0.3733 - accuracy: 0.9480\n",
      "Epoch 73/100\n",
      "24/24 [==============================] - 0s 1ms/step - loss: 0.3628 - accuracy: 0.9480\n",
      "Epoch 74/100\n",
      "24/24 [==============================] - 0s 1ms/step - loss: 0.3527 - accuracy: 0.9507\n",
      "Epoch 75/100\n",
      "24/24 [==============================] - 0s 1ms/step - loss: 0.3427 - accuracy: 0.9520\n",
      "Epoch 76/100\n",
      "24/24 [==============================] - 0s 869us/step - loss: 0.3333 - accuracy: 0.9547\n",
      "Epoch 77/100\n",
      "24/24 [==============================] - 0s 952us/step - loss: 0.3240 - accuracy: 0.9547\n",
      "Epoch 78/100\n",
      "24/24 [==============================] - 0s 866us/step - loss: 0.3153 - accuracy: 0.9560\n",
      "Epoch 79/100\n",
      "24/24 [==============================] - 0s 913us/step - loss: 0.3069 - accuracy: 0.9587\n",
      "Epoch 80/100\n",
      "24/24 [==============================] - 0s 953us/step - loss: 0.2988 - accuracy: 0.9613\n",
      "Epoch 81/100\n"
     ]
    },
    {
     "name": "stdout",
     "output_type": "stream",
     "text": [
      "24/24 [==============================] - 0s 816us/step - loss: 0.2909 - accuracy: 0.9653\n",
      "Epoch 82/100\n",
      "24/24 [==============================] - 0s 998us/step - loss: 0.2834 - accuracy: 0.9667\n",
      "Epoch 83/100\n",
      "24/24 [==============================] - 0s 915us/step - loss: 0.2762 - accuracy: 0.9680\n",
      "Epoch 84/100\n",
      "24/24 [==============================] - 0s 861us/step - loss: 0.2691 - accuracy: 0.9680\n",
      "Epoch 85/100\n",
      "24/24 [==============================] - 0s 823us/step - loss: 0.2624 - accuracy: 0.9693\n",
      "Epoch 86/100\n",
      "24/24 [==============================] - 0s 907us/step - loss: 0.2559 - accuracy: 0.9747\n",
      "Epoch 87/100\n",
      "24/24 [==============================] - 0s 997us/step - loss: 0.2496 - accuracy: 0.9760\n",
      "Epoch 88/100\n",
      "24/24 [==============================] - 0s 1ms/step - loss: 0.2436 - accuracy: 0.9800\n",
      "Epoch 89/100\n",
      "24/24 [==============================] - 0s 1ms/step - loss: 0.2378 - accuracy: 0.9800\n",
      "Epoch 90/100\n",
      "24/24 [==============================] - 0s 865us/step - loss: 0.2320 - accuracy: 0.9813\n",
      "Epoch 91/100\n",
      "24/24 [==============================] - 0s 911us/step - loss: 0.2266 - accuracy: 0.9813\n",
      "Epoch 92/100\n",
      "24/24 [==============================] - 0s 1ms/step - loss: 0.2211 - accuracy: 0.9813\n",
      "Epoch 93/100\n",
      "24/24 [==============================] - 0s 1ms/step - loss: 0.2159 - accuracy: 0.9813\n",
      "Epoch 94/100\n",
      "24/24 [==============================] - 0s 1ms/step - loss: 0.2107 - accuracy: 0.9827\n",
      "Epoch 95/100\n",
      "24/24 [==============================] - 0s 950us/step - loss: 0.2058 - accuracy: 0.9827\n",
      "Epoch 96/100\n",
      "24/24 [==============================] - 0s 988us/step - loss: 0.2010 - accuracy: 0.9853\n",
      "Epoch 97/100\n",
      "24/24 [==============================] - 0s 783us/step - loss: 0.1964 - accuracy: 0.9853\n",
      "Epoch 98/100\n",
      "24/24 [==============================] - 0s 1ms/step - loss: 0.1917 - accuracy: 0.9867\n",
      "Epoch 99/100\n",
      "24/24 [==============================] - 0s 1ms/step - loss: 0.1873 - accuracy: 0.9867\n",
      "Epoch 100/100\n",
      "24/24 [==============================] - 0s 1ms/step - loss: 0.1829 - accuracy: 0.9880\n"
     ]
    }
   ],
   "source": [
    "# Fit the model to the training data\n",
    "fit_model = nn_model.fit(X_train_scaled, y_train, epochs=100)"
   ]
  },
  {
   "cell_type": "code",
   "execution_count": 24,
   "id": "47870321",
   "metadata": {},
   "outputs": [
    {
     "data": {
      "text/plain": [
       "<AxesSubplot:>"
      ]
     },
     "execution_count": 24,
     "metadata": {},
     "output_type": "execute_result"
    },
    {
     "data": {
      "image/png": "[encoded data removed]",
      "text/plain": [
       "<Figure size 432x288 with 1 Axes>"
      ]
     },
     "metadata": {
      "needs_background": "light"
     },
     "output_type": "display_data"
    }
   ],
   "source": [
    "# Create a DataFrame containing training history\n",
    "history_df = pd.DataFrame(fit_model.history, index=range(1,len(fit_model.history[\"loss\"])+1))\n",
    "\n",
    "# Plot the loss\n",
    "history_df.plot(y=\"loss\")"
   ]
  },
  {
   "cell_type": "code",
   "execution_count": 21,
   "id": "828a3f7a",
   "metadata": {},
   "outputs": [
    {
     "data": {
      "text/plain": [
       "<AxesSubplot:>"
      ]
     },
     "execution_count": 21,
     "metadata": {},
     "output_type": "execute_result"
    },
    {
     "data": {
      "image/png": "[encoded data removed]",
      "text/plain": [
       "<Figure size 432x288 with 1 Axes>"
      ]
     },
     "metadata": {
      "needs_background": "light"
     },
     "output_type": "display_data"
    }
   ],
   "source": [
    "# Plot the accuracy\n",
    "history_df.plot(y=\"accuracy\")"
   ]
  },
  {
   "cell_type": "code",
   "execution_count": 25,
   "id": "3d7c0157",
   "metadata": {},
   "outputs": [
    {
     "name": "stdout",
     "output_type": "stream",
     "text": [
      "8/8 - 0s - loss: 0.1693 - accuracy: 0.9920\n",
      "Loss: 0.16930153965950012, Accuracy: 0.9919999837875366\n"
     ]
    }
   ],
   "source": [
    "# Evaluate the model using the test data\n",
    "model_loss, model_accuracy = nn_model.evaluate(X_test_scaled,y_test,verbose=2)\n",
    "print(f\"Loss: {model_loss}, Accuracy: {model_accuracy}\")"
   ]
  },
  {
   "cell_type": "code",
   "execution_count": 26,
   "id": "cd1a4044",
   "metadata": {},
   "outputs": [
    {
     "data": {
      "text/plain": [
       "array([[0],\n",
       "       [1],\n",
       "       [0],\n",
       "       [1],\n",
       "       [0],\n",
       "       [0],\n",
       "       [1],\n",
       "       [1],\n",
       "       [1],\n",
       "       [0]])"
      ]
     },
     "execution_count": 26,
     "metadata": {},
     "output_type": "execute_result"
    }
   ],
   "source": [
    "# Predict the classification of a new set of blob data\n",
    "new_X, new_Y = make_blobs(n_samples=10, centers=2, n_features=2, random_state=78)\n",
    "new_X_scaled = X_scaler.transform(new_X)\n",
    "(nn_model.predict(new_X_scaled) > 0.5).astype(\"int32\")"
   ]
  },
  {
   "cell_type": "markdown",
   "id": "899fd0e4",
   "metadata": {},
   "source": [
    "Non-Linear (Non binary classifier)"
   ]
  },
  {
   "cell_type": "code",
   "execution_count": 27,
   "id": "d4b5bb55",
   "metadata": {},
   "outputs": [
    {
     "data": {
      "text/plain": [
       "<AxesSubplot:xlabel='Feature 1', ylabel='Feature 2'>"
      ]
     },
     "execution_count": 27,
     "metadata": {},
     "output_type": "execute_result"
    },
    {
     "data": {
      "image/png": "[encoded data removed]",
      "text/plain": [
       "<Figure size 432x288 with 2 Axes>"
      ]
     },
     "metadata": {
      "needs_background": "light"
     },
     "output_type": "display_data"
    }
   ],
   "source": [
    "from sklearn.datasets import make_moons\n",
    "\n",
    "# Creating dummy nonlinear data\n",
    "X_moons, y_moons = make_moons(n_samples=1000, noise=0.08, random_state=78)\n",
    "\n",
    "# Transforming y_moons to a vertical vector\n",
    "y_moons = y_moons.reshape(-1, 1)\n",
    "\n",
    "# Creating a DataFrame to plot the nonlinear dummy data\n",
    "df_moons = pd.DataFrame(X_moons, columns=[\"Feature 1\", \"Feature 2\"])\n",
    "df_moons[\"Target\"] = y_moons\n",
    "\n",
    "# Plot the nonlinear dummy data\n",
    "df_moons.plot.scatter(x=\"Feature 1\",y=\"Feature 2\", c=\"Target\",colormap=\"winter\")"
   ]
  },
  {
   "cell_type": "code",
   "execution_count": 28,
   "id": "f1f2f86f",
   "metadata": {},
   "outputs": [],
   "source": [
    "# Create training and testing sets\n",
    "X_moon_train, X_moon_test, y_moon_train, y_moon_test = train_test_split(\n",
    "    X_moons, y_moons, random_state=78\n",
    ")\n",
    "\n",
    "# Create the scaler instance\n",
    "X_moon_scaler = skl.preprocessing.StandardScaler()\n",
    "\n",
    "# Fit the scaler\n",
    "X_moon_scaler.fit(X_moon_train)\n",
    "\n",
    "# Scale the data\n",
    "X_moon_train_scaled = X_moon_scaler.transform(X_moon_train)\n",
    "X_moon_test_scaled = X_moon_scaler.transform(X_moon_test)"
   ]
  },
  {
   "cell_type": "code",
   "execution_count": 29,
   "id": "57a1e846",
   "metadata": {},
   "outputs": [
    {
     "name": "stdout",
     "output_type": "stream",
     "text": [
      "Epoch 1/100\n",
      "24/24 [==============================] - 0s 2ms/step - loss: 1.3510 - accuracy: 0.3080\n",
      "Epoch 2/100\n",
      "24/24 [==============================] - 0s 1ms/step - loss: 1.1876 - accuracy: 0.3107\n",
      "Epoch 3/100\n",
      "24/24 [==============================] - 0s 1ms/step - loss: 1.0768 - accuracy: 0.3360\n",
      "Epoch 4/100\n",
      "24/24 [==============================] - 0s 1ms/step - loss: 1.0015 - accuracy: 0.3533\n",
      "Epoch 5/100\n",
      "24/24 [==============================] - 0s 2ms/step - loss: 0.9487 - accuracy: 0.3720\n",
      "Epoch 6/100\n",
      "24/24 [==============================] - 0s 1ms/step - loss: 0.9073 - accuracy: 0.3907\n",
      "Epoch 7/100\n",
      "24/24 [==============================] - 0s 1ms/step - loss: 0.8745 - accuracy: 0.4080\n",
      "Epoch 8/100\n",
      "24/24 [==============================] - 0s 1ms/step - loss: 0.8475 - accuracy: 0.4187\n",
      "Epoch 9/100\n",
      "24/24 [==============================] - 0s 1ms/step - loss: 0.8243 - accuracy: 0.4373\n",
      "Epoch 10/100\n",
      "24/24 [==============================] - 0s 1ms/step - loss: 0.8055 - accuracy: 0.4493\n",
      "Epoch 11/100\n",
      "24/24 [==============================] - 0s 1ms/step - loss: 0.7885 - accuracy: 0.4680\n",
      "Epoch 12/100\n",
      "24/24 [==============================] - 0s 1ms/step - loss: 0.7735 - accuracy: 0.4827\n",
      "Epoch 13/100\n",
      "24/24 [==============================] - 0s 1ms/step - loss: 0.7598 - accuracy: 0.4987\n",
      "Epoch 14/100\n",
      "24/24 [==============================] - 0s 1ms/step - loss: 0.7473 - accuracy: 0.5147\n",
      "Epoch 15/100\n",
      "24/24 [==============================] - 0s 1ms/step - loss: 0.7359 - accuracy: 0.5240\n",
      "Epoch 16/100\n",
      "24/24 [==============================] - 0s 1ms/step - loss: 0.7250 - accuracy: 0.5360\n",
      "Epoch 17/100\n",
      "24/24 [==============================] - 0s 1ms/step - loss: 0.7152 - accuracy: 0.5440\n",
      "Epoch 18/100\n",
      "24/24 [==============================] - 0s 1ms/step - loss: 0.7060 - accuracy: 0.5533\n",
      "Epoch 19/100\n",
      "24/24 [==============================] - 0s 1ms/step - loss: 0.6976 - accuracy: 0.5640\n",
      "Epoch 20/100\n",
      "24/24 [==============================] - 0s 1ms/step - loss: 0.6900 - accuracy: 0.5720\n",
      "Epoch 21/100\n",
      "24/24 [==============================] - 0s 1ms/step - loss: 0.6826 - accuracy: 0.5800\n",
      "Epoch 22/100\n",
      "24/24 [==============================] - 0s 1ms/step - loss: 0.6757 - accuracy: 0.5867\n",
      "Epoch 23/100\n",
      "24/24 [==============================] - 0s 1ms/step - loss: 0.6692 - accuracy: 0.5867\n",
      "Epoch 24/100\n",
      "24/24 [==============================] - 0s 1ms/step - loss: 0.6628 - accuracy: 0.5933\n",
      "Epoch 25/100\n",
      "24/24 [==============================] - 0s 1ms/step - loss: 0.6566 - accuracy: 0.5973\n",
      "Epoch 26/100\n",
      "24/24 [==============================] - 0s 1ms/step - loss: 0.6510 - accuracy: 0.6040\n",
      "Epoch 27/100\n",
      "24/24 [==============================] - 0s 1ms/step - loss: 0.6454 - accuracy: 0.6067\n",
      "Epoch 28/100\n",
      "24/24 [==============================] - 0s 1ms/step - loss: 0.6402 - accuracy: 0.6133\n",
      "Epoch 29/100\n",
      "24/24 [==============================] - 0s 1ms/step - loss: 0.6353 - accuracy: 0.6187\n",
      "Epoch 30/100\n",
      "24/24 [==============================] - 0s 1ms/step - loss: 0.6304 - accuracy: 0.6213\n",
      "Epoch 31/100\n",
      "24/24 [==============================] - 0s 1ms/step - loss: 0.6259 - accuracy: 0.6280\n",
      "Epoch 32/100\n",
      "24/24 [==============================] - 0s 1ms/step - loss: 0.6214 - accuracy: 0.6280\n",
      "Epoch 33/100\n",
      "24/24 [==============================] - 0s 1ms/step - loss: 0.6172 - accuracy: 0.6347\n",
      "Epoch 34/100\n",
      "24/24 [==============================] - 0s 1ms/step - loss: 0.6130 - accuracy: 0.6387\n",
      "Epoch 35/100\n",
      "24/24 [==============================] - 0s 1ms/step - loss: 0.6088 - accuracy: 0.6373\n",
      "Epoch 36/100\n",
      "24/24 [==============================] - 0s 1ms/step - loss: 0.6048 - accuracy: 0.6387\n",
      "Epoch 37/100\n",
      "24/24 [==============================] - 0s 1ms/step - loss: 0.6006 - accuracy: 0.6467\n",
      "Epoch 38/100\n",
      "24/24 [==============================] - 0s 1ms/step - loss: 0.5966 - accuracy: 0.6480\n",
      "Epoch 39/100\n",
      "24/24 [==============================] - 0s 1ms/step - loss: 0.5926 - accuracy: 0.6507\n",
      "Epoch 40/100\n",
      "24/24 [==============================] - 0s 1ms/step - loss: 0.5887 - accuracy: 0.6533\n",
      "Epoch 41/100\n",
      "24/24 [==============================] - 0s 1ms/step - loss: 0.5850 - accuracy: 0.6587\n",
      "Epoch 42/100\n",
      "24/24 [==============================] - 0s 1ms/step - loss: 0.5815 - accuracy: 0.6613\n",
      "Epoch 43/100\n",
      "24/24 [==============================] - 0s 1ms/step - loss: 0.5780 - accuracy: 0.6653\n",
      "Epoch 44/100\n",
      "24/24 [==============================] - 0s 1ms/step - loss: 0.5748 - accuracy: 0.6680\n",
      "Epoch 45/100\n",
      "24/24 [==============================] - 0s 2ms/step - loss: 0.5714 - accuracy: 0.6707\n",
      "Epoch 46/100\n",
      "24/24 [==============================] - 0s 3ms/step - loss: 0.5683 - accuracy: 0.6760\n",
      "Epoch 47/100\n",
      "24/24 [==============================] - 0s 1ms/step - loss: 0.5650 - accuracy: 0.6773\n",
      "Epoch 48/100\n",
      "24/24 [==============================] - 0s 1ms/step - loss: 0.5619 - accuracy: 0.6813\n",
      "Epoch 49/100\n",
      "24/24 [==============================] - 0s 1ms/step - loss: 0.5588 - accuracy: 0.6813\n",
      "Epoch 50/100\n",
      "24/24 [==============================] - 0s 2ms/step - loss: 0.5559 - accuracy: 0.6827\n",
      "Epoch 51/100\n",
      "24/24 [==============================] - 0s 1ms/step - loss: 0.5529 - accuracy: 0.6827\n",
      "Epoch 52/100\n",
      "24/24 [==============================] - 0s 1ms/step - loss: 0.5499 - accuracy: 0.6827\n",
      "Epoch 53/100\n",
      "24/24 [==============================] - 0s 1ms/step - loss: 0.5470 - accuracy: 0.6853\n",
      "Epoch 54/100\n",
      "24/24 [==============================] - 0s 1ms/step - loss: 0.5439 - accuracy: 0.6853\n",
      "Epoch 55/100\n",
      "24/24 [==============================] - 0s 2ms/step - loss: 0.5410 - accuracy: 0.6893\n",
      "Epoch 56/100\n",
      "24/24 [==============================] - 0s 1ms/step - loss: 0.5382 - accuracy: 0.6907\n",
      "Epoch 57/100\n",
      "24/24 [==============================] - 0s 1ms/step - loss: 0.5354 - accuracy: 0.6947\n",
      "Epoch 58/100\n",
      "24/24 [==============================] - 0s 1ms/step - loss: 0.5328 - accuracy: 0.6973\n",
      "Epoch 59/100\n",
      "24/24 [==============================] - 0s 1ms/step - loss: 0.5301 - accuracy: 0.6987\n",
      "Epoch 60/100\n",
      "24/24 [==============================] - 0s 1ms/step - loss: 0.5274 - accuracy: 0.7053\n",
      "Epoch 61/100\n",
      "24/24 [==============================] - 0s 2ms/step - loss: 0.5247 - accuracy: 0.7080\n",
      "Epoch 62/100\n",
      "24/24 [==============================] - 0s 1ms/step - loss: 0.5219 - accuracy: 0.7107\n",
      "Epoch 63/100\n",
      "24/24 [==============================] - 0s 1ms/step - loss: 0.5192 - accuracy: 0.7120\n",
      "Epoch 64/100\n",
      "24/24 [==============================] - 0s 2ms/step - loss: 0.5164 - accuracy: 0.7133\n",
      "Epoch 65/100\n",
      "24/24 [==============================] - 0s 1ms/step - loss: 0.5137 - accuracy: 0.7213\n",
      "Epoch 66/100\n",
      "24/24 [==============================] - 0s 959us/step - loss: 0.5110 - accuracy: 0.7213\n",
      "Epoch 67/100\n",
      "24/24 [==============================] - 0s 1ms/step - loss: 0.5083 - accuracy: 0.7227\n",
      "Epoch 68/100\n",
      "24/24 [==============================] - 0s 1ms/step - loss: 0.5058 - accuracy: 0.7280\n",
      "Epoch 69/100\n",
      "24/24 [==============================] - 0s 1ms/step - loss: 0.5031 - accuracy: 0.7293\n",
      "Epoch 70/100\n",
      "24/24 [==============================] - 0s 1ms/step - loss: 0.5005 - accuracy: 0.7333\n",
      "Epoch 71/100\n",
      "24/24 [==============================] - 0s 1ms/step - loss: 0.4979 - accuracy: 0.7347\n",
      "Epoch 72/100\n",
      "24/24 [==============================] - 0s 2ms/step - loss: 0.4953 - accuracy: 0.7360\n",
      "Epoch 73/100\n",
      "24/24 [==============================] - 0s 1ms/step - loss: 0.4928 - accuracy: 0.7387\n",
      "Epoch 74/100\n",
      "24/24 [==============================] - 0s 1ms/step - loss: 0.4901 - accuracy: 0.7400\n",
      "Epoch 75/100\n",
      "24/24 [==============================] - 0s 1ms/step - loss: 0.4876 - accuracy: 0.7413\n",
      "Epoch 76/100\n",
      "24/24 [==============================] - 0s 1ms/step - loss: 0.4850 - accuracy: 0.7440\n",
      "Epoch 77/100\n",
      "24/24 [==============================] - 0s 1ms/step - loss: 0.4825 - accuracy: 0.7453\n",
      "Epoch 78/100\n",
      "24/24 [==============================] - 0s 2ms/step - loss: 0.4800 - accuracy: 0.7480\n",
      "Epoch 79/100\n",
      "24/24 [==============================] - 0s 1ms/step - loss: 0.4775 - accuracy: 0.7507\n",
      "Epoch 80/100\n",
      "24/24 [==============================] - 0s 1ms/step - loss: 0.4750 - accuracy: 0.7520\n",
      "Epoch 81/100\n",
      "24/24 [==============================] - 0s 1ms/step - loss: 0.4725 - accuracy: 0.7560\n",
      "Epoch 82/100\n",
      "24/24 [==============================] - 0s 1ms/step - loss: 0.4700 - accuracy: 0.7587\n"
     ]
    },
    {
     "name": "stdout",
     "output_type": "stream",
     "text": [
      "Epoch 83/100\n",
      "24/24 [==============================] - 0s 1ms/step - loss: 0.4675 - accuracy: 0.7627\n",
      "Epoch 84/100\n",
      "24/24 [==============================] - 0s 1ms/step - loss: 0.4650 - accuracy: 0.7627\n",
      "Epoch 85/100\n",
      "24/24 [==============================] - 0s 1ms/step - loss: 0.4626 - accuracy: 0.7627\n",
      "Epoch 86/100\n",
      "24/24 [==============================] - 0s 1ms/step - loss: 0.4602 - accuracy: 0.7667\n",
      "Epoch 87/100\n",
      "24/24 [==============================] - 0s 1ms/step - loss: 0.4578 - accuracy: 0.7693\n",
      "Epoch 88/100\n",
      "24/24 [==============================] - 0s 1ms/step - loss: 0.4554 - accuracy: 0.7720\n",
      "Epoch 89/100\n",
      "24/24 [==============================] - 0s 1ms/step - loss: 0.4531 - accuracy: 0.7733\n",
      "Epoch 90/100\n",
      "24/24 [==============================] - 0s 1ms/step - loss: 0.4507 - accuracy: 0.7760\n",
      "Epoch 91/100\n",
      "24/24 [==============================] - 0s 1ms/step - loss: 0.4483 - accuracy: 0.7773\n",
      "Epoch 92/100\n",
      "24/24 [==============================] - 0s 1ms/step - loss: 0.4460 - accuracy: 0.7787\n",
      "Epoch 93/100\n",
      "24/24 [==============================] - 0s 1ms/step - loss: 0.4436 - accuracy: 0.7800\n",
      "Epoch 94/100\n",
      "24/24 [==============================] - 0s 1ms/step - loss: 0.4412 - accuracy: 0.7813\n",
      "Epoch 95/100\n",
      "24/24 [==============================] - 0s 1ms/step - loss: 0.4388 - accuracy: 0.7853\n",
      "Epoch 96/100\n",
      "24/24 [==============================] - 0s 1ms/step - loss: 0.4363 - accuracy: 0.7880\n",
      "Epoch 97/100\n",
      "24/24 [==============================] - 0s 2ms/step - loss: 0.4339 - accuracy: 0.7880\n",
      "Epoch 98/100\n",
      "24/24 [==============================] - 0s 1ms/step - loss: 0.4315 - accuracy: 0.7893\n",
      "Epoch 99/100\n",
      "24/24 [==============================] - 0s 1ms/step - loss: 0.4291 - accuracy: 0.7907\n",
      "Epoch 100/100\n",
      "24/24 [==============================] - 0s 1ms/step - loss: 0.4268 - accuracy: 0.7907\n"
     ]
    }
   ],
   "source": [
    "# Training the model with the nonlinear data\n",
    "model_moon = nn_model.fit(X_moon_train_scaled, y_moon_train, epochs=100, shuffle=True)"
   ]
  },
  {
   "cell_type": "code",
   "execution_count": 30,
   "id": "d96de295",
   "metadata": {},
   "outputs": [
    {
     "data": {
      "text/plain": [
       "<AxesSubplot:>"
      ]
     },
     "execution_count": 30,
     "metadata": {},
     "output_type": "execute_result"
    },
    {
     "data": {
      "image/png": "[encoded data removed]",
      "text/plain": [
       "<Figure size 432x288 with 1 Axes>"
      ]
     },
     "metadata": {
      "needs_background": "light"
     },
     "output_type": "display_data"
    }
   ],
   "source": [
    "# Create a DataFrame containing training history\n",
    "history_df = pd.DataFrame(model_moon.history, index=range(1,len(model_moon.history[\"loss\"])+1))\n",
    "\n",
    "# Plot the loss\n",
    "history_df.plot(y=\"loss\")"
   ]
  },
  {
   "cell_type": "code",
   "execution_count": 31,
   "id": "a70f563e",
   "metadata": {},
   "outputs": [
    {
     "data": {
      "text/plain": [
       "<AxesSubplot:>"
      ]
     },
     "execution_count": 31,
     "metadata": {},
     "output_type": "execute_result"
    },
    {
     "data": {
      "image/png": "[encoded data removed]",
      "text/plain": [
       "<Figure size 432x288 with 1 Axes>"
      ]
     },
     "metadata": {
      "needs_background": "light"
     },
     "output_type": "display_data"
    }
   ],
   "source": [
    "# Plot the accuracy\n",
    "history_df.plot(y=\"accuracy\")"
   ]
  },
  {
   "cell_type": "markdown",
   "id": "540a795b",
   "metadata": {},
   "source": [
    "## More Neurons for Non-linear dataset. To change the NN model structure, we need a new Sequential Model."
   ]
  },
  {
   "cell_type": "code",
   "execution_count": 32,
   "id": "4554a190",
   "metadata": {},
   "outputs": [],
   "source": [
    "# Generate our new Sequential model\n",
    "new_model = tf.keras.models.Sequential()"
   ]
  },
  {
   "cell_type": "code",
   "execution_count": 33,
   "id": "4245cd3a",
   "metadata": {},
   "outputs": [],
   "source": [
    "# Add the input and hidden layer\n",
    "number_inputs = 2\n",
    "number_hidden_nodes = 6\n",
    "\n",
    "new_model.add(tf.keras.layers.Dense(units=number_hidden_nodes, activation=\"relu\", input_dim=number_inputs))\n",
    "\n",
    "# Add the output layer that uses a probability activation function\n",
    "new_model.add(tf.keras.layers.Dense(units=1, activation=\"sigmoid\"))"
   ]
  },
  {
   "cell_type": "code",
   "execution_count": 34,
   "id": "bf7f4214",
   "metadata": {},
   "outputs": [
    {
     "name": "stdout",
     "output_type": "stream",
     "text": [
      "Epoch 1/100\n",
      "24/24 [==============================] - 0s 992us/step - loss: 0.5675 - accuracy: 0.7800\n",
      "Epoch 2/100\n",
      "24/24 [==============================] - 0s 880us/step - loss: 0.5426 - accuracy: 0.8107\n",
      "Epoch 3/100\n",
      "24/24 [==============================] - 0s 888us/step - loss: 0.5186 - accuracy: 0.8200\n",
      "Epoch 4/100\n",
      "24/24 [==============================] - 0s 857us/step - loss: 0.4961 - accuracy: 0.8240\n",
      "Epoch 5/100\n",
      "24/24 [==============================] - 0s 802us/step - loss: 0.4739 - accuracy: 0.8320\n",
      "Epoch 6/100\n",
      "24/24 [==============================] - 0s 898us/step - loss: 0.4536 - accuracy: 0.8360\n",
      "Epoch 7/100\n",
      "24/24 [==============================] - 0s 814us/step - loss: 0.4345 - accuracy: 0.8387\n",
      "Epoch 8/100\n",
      "24/24 [==============================] - 0s 853us/step - loss: 0.4166 - accuracy: 0.8427\n",
      "Epoch 9/100\n",
      "24/24 [==============================] - 0s 895us/step - loss: 0.4003 - accuracy: 0.8427\n",
      "Epoch 10/100\n",
      "24/24 [==============================] - 0s 811us/step - loss: 0.3850 - accuracy: 0.8427\n",
      "Epoch 11/100\n",
      "24/24 [==============================] - 0s 791us/step - loss: 0.3713 - accuracy: 0.8453\n",
      "Epoch 12/100\n",
      "24/24 [==============================] - 0s 835us/step - loss: 0.3587 - accuracy: 0.8493\n",
      "Epoch 13/100\n",
      "24/24 [==============================] - 0s 874us/step - loss: 0.3475 - accuracy: 0.8547\n",
      "Epoch 14/100\n",
      "24/24 [==============================] - 0s 767us/step - loss: 0.3372 - accuracy: 0.8560\n",
      "Epoch 15/100\n",
      "24/24 [==============================] - 0s 850us/step - loss: 0.3280 - accuracy: 0.8600\n",
      "Epoch 16/100\n",
      "24/24 [==============================] - 0s 861us/step - loss: 0.3198 - accuracy: 0.8653\n",
      "Epoch 17/100\n",
      "24/24 [==============================] - 0s 833us/step - loss: 0.3121 - accuracy: 0.8680\n",
      "Epoch 18/100\n",
      "24/24 [==============================] - 0s 938us/step - loss: 0.3055 - accuracy: 0.8680\n",
      "Epoch 19/100\n",
      "24/24 [==============================] - 0s 802us/step - loss: 0.2987 - accuracy: 0.8693\n",
      "Epoch 20/100\n",
      "24/24 [==============================] - 0s 845us/step - loss: 0.2930 - accuracy: 0.8707\n",
      "Epoch 21/100\n",
      "24/24 [==============================] - 0s 900us/step - loss: 0.2877 - accuracy: 0.8707\n",
      "Epoch 22/100\n",
      "24/24 [==============================] - 0s 879us/step - loss: 0.2828 - accuracy: 0.8720\n",
      "Epoch 23/100\n",
      "24/24 [==============================] - 0s 823us/step - loss: 0.2783 - accuracy: 0.8760\n",
      "Epoch 24/100\n",
      "24/24 [==============================] - 0s 941us/step - loss: 0.2739 - accuracy: 0.8800\n",
      "Epoch 25/100\n",
      "24/24 [==============================] - 0s 845us/step - loss: 0.2703 - accuracy: 0.8813\n",
      "Epoch 26/100\n",
      "24/24 [==============================] - 0s 934us/step - loss: 0.2667 - accuracy: 0.8867\n",
      "Epoch 27/100\n",
      "24/24 [==============================] - 0s 927us/step - loss: 0.2635 - accuracy: 0.8907\n",
      "Epoch 28/100\n",
      "24/24 [==============================] - 0s 852us/step - loss: 0.2605 - accuracy: 0.8933\n",
      "Epoch 29/100\n",
      "24/24 [==============================] - 0s 986us/step - loss: 0.2578 - accuracy: 0.8933\n",
      "Epoch 30/100\n",
      "24/24 [==============================] - 0s 862us/step - loss: 0.2555 - accuracy: 0.8933\n",
      "Epoch 31/100\n",
      "24/24 [==============================] - 0s 880us/step - loss: 0.2531 - accuracy: 0.8933\n",
      "Epoch 32/100\n",
      "24/24 [==============================] - 0s 832us/step - loss: 0.2511 - accuracy: 0.8947\n",
      "Epoch 33/100\n",
      "24/24 [==============================] - 0s 1ms/step - loss: 0.2491 - accuracy: 0.8947\n",
      "Epoch 34/100\n",
      "24/24 [==============================] - 0s 939us/step - loss: 0.2475 - accuracy: 0.8960\n",
      "Epoch 35/100\n",
      "24/24 [==============================] - 0s 872us/step - loss: 0.2460 - accuracy: 0.8960\n",
      "Epoch 36/100\n",
      "24/24 [==============================] - 0s 899us/step - loss: 0.2446 - accuracy: 0.8960\n",
      "Epoch 37/100\n",
      "24/24 [==============================] - 0s 960us/step - loss: 0.2432 - accuracy: 0.8973\n",
      "Epoch 38/100\n",
      "24/24 [==============================] - 0s 933us/step - loss: 0.2419 - accuracy: 0.8987\n",
      "Epoch 39/100\n",
      "24/24 [==============================] - 0s 980us/step - loss: 0.2408 - accuracy: 0.8987\n",
      "Epoch 40/100\n",
      "24/24 [==============================] - 0s 843us/step - loss: 0.2396 - accuracy: 0.9000\n",
      "Epoch 41/100\n",
      "24/24 [==============================] - 0s 809us/step - loss: 0.2386 - accuracy: 0.9027\n",
      "Epoch 42/100\n",
      "24/24 [==============================] - 0s 933us/step - loss: 0.2375 - accuracy: 0.9027\n",
      "Epoch 43/100\n",
      "24/24 [==============================] - 0s 842us/step - loss: 0.2365 - accuracy: 0.9027\n",
      "Epoch 44/100\n",
      "24/24 [==============================] - 0s 905us/step - loss: 0.2355 - accuracy: 0.9027\n",
      "Epoch 45/100\n",
      "24/24 [==============================] - 0s 916us/step - loss: 0.2344 - accuracy: 0.9027\n",
      "Epoch 46/100\n",
      "24/24 [==============================] - 0s 883us/step - loss: 0.2335 - accuracy: 0.9027\n",
      "Epoch 47/100\n",
      "24/24 [==============================] - 0s 852us/step - loss: 0.2325 - accuracy: 0.9013\n",
      "Epoch 48/100\n",
      "24/24 [==============================] - 0s 932us/step - loss: 0.2316 - accuracy: 0.9013\n",
      "Epoch 49/100\n",
      "24/24 [==============================] - 0s 1ms/step - loss: 0.2306 - accuracy: 0.9027\n",
      "Epoch 50/100\n",
      "24/24 [==============================] - 0s 868us/step - loss: 0.2298 - accuracy: 0.9027\n",
      "Epoch 51/100\n",
      "24/24 [==============================] - 0s 948us/step - loss: 0.2288 - accuracy: 0.9053\n",
      "Epoch 52/100\n",
      "24/24 [==============================] - 0s 934us/step - loss: 0.2278 - accuracy: 0.9053\n",
      "Epoch 53/100\n",
      "24/24 [==============================] - 0s 884us/step - loss: 0.2269 - accuracy: 0.9067\n",
      "Epoch 54/100\n",
      "24/24 [==============================] - 0s 984us/step - loss: 0.2259 - accuracy: 0.9067\n",
      "Epoch 55/100\n",
      "24/24 [==============================] - 0s 1ms/step - loss: 0.2249 - accuracy: 0.9067\n",
      "Epoch 56/100\n",
      "24/24 [==============================] - 0s 822us/step - loss: 0.2239 - accuracy: 0.9067\n",
      "Epoch 57/100\n",
      "24/24 [==============================] - 0s 829us/step - loss: 0.2229 - accuracy: 0.9080\n",
      "Epoch 58/100\n",
      "24/24 [==============================] - 0s 823us/step - loss: 0.2218 - accuracy: 0.9093\n",
      "Epoch 59/100\n",
      "24/24 [==============================] - 0s 815us/step - loss: 0.2207 - accuracy: 0.9107\n",
      "Epoch 60/100\n",
      "24/24 [==============================] - 0s 780us/step - loss: 0.2195 - accuracy: 0.9107\n",
      "Epoch 61/100\n",
      "24/24 [==============================] - 0s 823us/step - loss: 0.2184 - accuracy: 0.9107\n",
      "Epoch 62/100\n",
      "24/24 [==============================] - 0s 714us/step - loss: 0.2173 - accuracy: 0.9107\n",
      "Epoch 63/100\n",
      "24/24 [==============================] - 0s 860us/step - loss: 0.2160 - accuracy: 0.9107\n",
      "Epoch 64/100\n",
      "24/24 [==============================] - 0s 835us/step - loss: 0.2149 - accuracy: 0.9107\n",
      "Epoch 65/100\n",
      "24/24 [==============================] - 0s 849us/step - loss: 0.2137 - accuracy: 0.9107\n",
      "Epoch 66/100\n",
      "24/24 [==============================] - 0s 901us/step - loss: 0.2126 - accuracy: 0.9120\n",
      "Epoch 67/100\n",
      "24/24 [==============================] - 0s 814us/step - loss: 0.2113 - accuracy: 0.9120\n",
      "Epoch 68/100\n",
      "24/24 [==============================] - 0s 757us/step - loss: 0.2100 - accuracy: 0.9120\n",
      "Epoch 69/100\n",
      "24/24 [==============================] - 0s 781us/step - loss: 0.2087 - accuracy: 0.9133\n",
      "Epoch 70/100\n",
      "24/24 [==============================] - 0s 807us/step - loss: 0.2075 - accuracy: 0.9133\n",
      "Epoch 71/100\n",
      "24/24 [==============================] - 0s 798us/step - loss: 0.2063 - accuracy: 0.9133\n",
      "Epoch 72/100\n",
      "24/24 [==============================] - 0s 867us/step - loss: 0.2049 - accuracy: 0.9133\n",
      "Epoch 73/100\n",
      "24/24 [==============================] - 0s 803us/step - loss: 0.2035 - accuracy: 0.9133\n",
      "Epoch 74/100\n",
      "24/24 [==============================] - 0s 780us/step - loss: 0.2022 - accuracy: 0.9160\n",
      "Epoch 75/100\n",
      "24/24 [==============================] - 0s 741us/step - loss: 0.2008 - accuracy: 0.9160\n",
      "Epoch 76/100\n",
      "24/24 [==============================] - 0s 799us/step - loss: 0.1995 - accuracy: 0.9160\n",
      "Epoch 77/100\n",
      "24/24 [==============================] - 0s 889us/step - loss: 0.1982 - accuracy: 0.9160\n",
      "Epoch 78/100\n",
      "24/24 [==============================] - 0s 780us/step - loss: 0.1968 - accuracy: 0.9173\n",
      "Epoch 79/100\n",
      "24/24 [==============================] - 0s 727us/step - loss: 0.1953 - accuracy: 0.9173\n",
      "Epoch 80/100\n",
      "24/24 [==============================] - 0s 823us/step - loss: 0.1939 - accuracy: 0.9173\n",
      "Epoch 81/100\n"
     ]
    },
    {
     "name": "stdout",
     "output_type": "stream",
     "text": [
      "24/24 [==============================] - 0s 857us/step - loss: 0.1925 - accuracy: 0.9173\n",
      "Epoch 82/100\n",
      "24/24 [==============================] - 0s 831us/step - loss: 0.1910 - accuracy: 0.9173\n",
      "Epoch 83/100\n",
      "24/24 [==============================] - 0s 839us/step - loss: 0.1896 - accuracy: 0.9173\n",
      "Epoch 84/100\n",
      "24/24 [==============================] - 0s 766us/step - loss: 0.1881 - accuracy: 0.9173\n",
      "Epoch 85/100\n",
      "24/24 [==============================] - 0s 780us/step - loss: 0.1866 - accuracy: 0.9173\n",
      "Epoch 86/100\n",
      "24/24 [==============================] - 0s 737us/step - loss: 0.1853 - accuracy: 0.9187\n",
      "Epoch 87/100\n",
      "24/24 [==============================] - 0s 818us/step - loss: 0.1837 - accuracy: 0.9213\n",
      "Epoch 88/100\n",
      "24/24 [==============================] - 0s 790us/step - loss: 0.1821 - accuracy: 0.9227\n",
      "Epoch 89/100\n",
      "24/24 [==============================] - 0s 771us/step - loss: 0.1806 - accuracy: 0.9240\n",
      "Epoch 90/100\n",
      "24/24 [==============================] - 0s 737us/step - loss: 0.1790 - accuracy: 0.9280\n",
      "Epoch 91/100\n",
      "24/24 [==============================] - 0s 795us/step - loss: 0.1775 - accuracy: 0.9280\n",
      "Epoch 92/100\n",
      "24/24 [==============================] - 0s 826us/step - loss: 0.1759 - accuracy: 0.9280\n",
      "Epoch 93/100\n",
      "24/24 [==============================] - 0s 816us/step - loss: 0.1744 - accuracy: 0.9293\n",
      "Epoch 94/100\n",
      "24/24 [==============================] - 0s 909us/step - loss: 0.1727 - accuracy: 0.9293\n",
      "Epoch 95/100\n",
      "24/24 [==============================] - 0s 854us/step - loss: 0.1711 - accuracy: 0.9293\n",
      "Epoch 96/100\n",
      "24/24 [==============================] - 0s 780us/step - loss: 0.1695 - accuracy: 0.9307\n",
      "Epoch 97/100\n",
      "24/24 [==============================] - 0s 803us/step - loss: 0.1678 - accuracy: 0.9307\n",
      "Epoch 98/100\n",
      "24/24 [==============================] - 0s 858us/step - loss: 0.1662 - accuracy: 0.9307\n",
      "Epoch 99/100\n",
      "24/24 [==============================] - 0s 780us/step - loss: 0.1644 - accuracy: 0.9307\n",
      "Epoch 100/100\n",
      "24/24 [==============================] - 0s 807us/step - loss: 0.1627 - accuracy: 0.9307\n"
     ]
    }
   ],
   "source": [
    "# Compile the Sequential model together and customize metrics\n",
    "new_model.compile(loss=\"binary_crossentropy\", optimizer=\"adam\", metrics=[\"accuracy\"])\n",
    "\n",
    "# Fit the model to the training data\n",
    "new_fit_model = new_model.fit(X_moon_train_scaled, y_moon_train, epochs=100, shuffle=True)"
   ]
  },
  {
   "cell_type": "code",
   "execution_count": null,
   "id": "d24d9223",
   "metadata": {},
   "outputs": [],
   "source": []
  }
 ],
 "metadata": {
  "kernelspec": {
   "display_name": "mlenv",
   "language": "python",
   "name": "mlenv"
  },
  "language_info": {
   "codemirror_mode": {
    "name": "ipython",
    "version": 3
   },
   "file_extension": ".py",
   "mimetype": "text/x-python",
   "name": "python",
   "nbconvert_exporter": "python",
   "pygments_lexer": "ipython3",
   "version": "3.7.11"
  }
 },
 "nbformat": 4,
 "nbformat_minor": 5
}
